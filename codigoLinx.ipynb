{
 "cells": [
  {
   "cell_type": "code",
   "execution_count": 4,
   "metadata": {},
   "outputs": [
    {
     "data": {
      "text/plain": [
       "['.ipynb_checkpoints',\n",
       " 'desafio linx.ipynb',\n",
       " 'offline_sales.json',\n",
       " 'online_orders.json',\n",
       " 'online_pageviews.json',\n",
       " 'respostas.ipynb',\n",
       " 'respostass.ipynb']"
      ]
     },
     "execution_count": 4,
     "metadata": {},
     "output_type": "execute_result"
    }
   ],
   "source": [
    "import pandas\n",
    "import os\n"
   ]
  },
  {
   "cell_type": "code",
   "execution_count": 19,
   "metadata": {
    "scrolled": true
   },
   "outputs": [
    {
     "data": {
      "text/plain": [
       "RJ    8867\n",
       "SP    6123\n",
       "RS    4631\n",
       "PE    3289\n",
       "AM    1527\n",
       "RN    1472\n",
       "MA    1078\n",
       "PR     888\n",
       "PI     834\n",
       "MS     361\n",
       "GO     302\n",
       "Name: state, dtype: int64"
      ]
     },
     "execution_count": 19,
     "metadata": {},
     "output_type": "execute_result"
    }
   ],
   "source": [
    "df1 = pandas.read_json(\"offline_sales.json\", lines = True)\n",
    "df1['state'].value_counts()"
   ]
  },
  {
   "cell_type": "code",
   "execution_count": 6,
   "metadata": {},
   "outputs": [
    {
     "data": {
      "text/html": [
       "<div>\n",
       "<style scoped>\n",
       "    .dataframe tbody tr th:only-of-type {\n",
       "        vertical-align: middle;\n",
       "    }\n",
       "\n",
       "    .dataframe tbody tr th {\n",
       "        vertical-align: top;\n",
       "    }\n",
       "\n",
       "    .dataframe thead th {\n",
       "        text-align: right;\n",
       "    }\n",
       "</style>\n",
       "<table border=\"1\" class=\"dataframe\">\n",
       "  <thead>\n",
       "    <tr style=\"text-align: right;\">\n",
       "      <th></th>\n",
       "      <th>date</th>\n",
       "      <th>visitor_id</th>\n",
       "      <th>deviceType</th>\n",
       "      <th>order_id</th>\n",
       "      <th>on_product_id</th>\n",
       "      <th>quantity</th>\n",
       "      <th>price</th>\n",
       "      <th>customer_id</th>\n",
       "    </tr>\n",
       "  </thead>\n",
       "  <tbody>\n",
       "    <tr>\n",
       "      <td>0</td>\n",
       "      <td>2018-08-01</td>\n",
       "      <td>3.663324e+24</td>\n",
       "      <td>desktop</td>\n",
       "      <td>363063373630306</td>\n",
       "      <td>323762666337343</td>\n",
       "      <td>1</td>\n",
       "      <td>839</td>\n",
       "      <td>NaN</td>\n",
       "    </tr>\n",
       "    <tr>\n",
       "      <td>1</td>\n",
       "      <td>2018-08-01</td>\n",
       "      <td>3.430317e+24</td>\n",
       "      <td>mobile</td>\n",
       "      <td>356664366366353</td>\n",
       "      <td>313562333039323</td>\n",
       "      <td>1</td>\n",
       "      <td>629</td>\n",
       "      <td>6.339334e+19</td>\n",
       "    </tr>\n",
       "    <tr>\n",
       "      <td>2</td>\n",
       "      <td>2018-08-01</td>\n",
       "      <td>3.261343e+24</td>\n",
       "      <td>desktop</td>\n",
       "      <td>313432656633333</td>\n",
       "      <td>383863346531623</td>\n",
       "      <td>1</td>\n",
       "      <td>219</td>\n",
       "      <td>3.765363e+19</td>\n",
       "    </tr>\n",
       "    <tr>\n",
       "      <td>3</td>\n",
       "      <td>2018-08-01</td>\n",
       "      <td>6.437387e+24</td>\n",
       "      <td>mobile</td>\n",
       "      <td>633236633438383</td>\n",
       "      <td>666136386663626</td>\n",
       "      <td>1</td>\n",
       "      <td>239</td>\n",
       "      <td>6.533383e+19</td>\n",
       "    </tr>\n",
       "    <tr>\n",
       "      <td>4</td>\n",
       "      <td>2018-08-01</td>\n",
       "      <td>6.264657e+24</td>\n",
       "      <td>desktop</td>\n",
       "      <td>623030326130383</td>\n",
       "      <td>626533383465323</td>\n",
       "      <td>1</td>\n",
       "      <td>69</td>\n",
       "      <td>NaN</td>\n",
       "    </tr>\n",
       "    <tr>\n",
       "      <td>...</td>\n",
       "      <td>...</td>\n",
       "      <td>...</td>\n",
       "      <td>...</td>\n",
       "      <td>...</td>\n",
       "      <td>...</td>\n",
       "      <td>...</td>\n",
       "      <td>...</td>\n",
       "      <td>...</td>\n",
       "    </tr>\n",
       "    <tr>\n",
       "      <td>12232</td>\n",
       "      <td>2018-08-31</td>\n",
       "      <td>3.133384e+24</td>\n",
       "      <td>desktop</td>\n",
       "      <td>636136633433353</td>\n",
       "      <td>323765383935613</td>\n",
       "      <td>1</td>\n",
       "      <td>349</td>\n",
       "      <td>3.639383e+19</td>\n",
       "    </tr>\n",
       "    <tr>\n",
       "      <td>12233</td>\n",
       "      <td>2018-08-31</td>\n",
       "      <td>6.532624e+24</td>\n",
       "      <td>mobile</td>\n",
       "      <td>313334363633303</td>\n",
       "      <td>333437623263326</td>\n",
       "      <td>1</td>\n",
       "      <td>199</td>\n",
       "      <td>3.461394e+19</td>\n",
       "    </tr>\n",
       "    <tr>\n",
       "      <td>12234</td>\n",
       "      <td>2018-08-31</td>\n",
       "      <td>3.535356e+24</td>\n",
       "      <td>desktop</td>\n",
       "      <td>626166643633306</td>\n",
       "      <td>613264333961396</td>\n",
       "      <td>1</td>\n",
       "      <td>349</td>\n",
       "      <td>NaN</td>\n",
       "    </tr>\n",
       "    <tr>\n",
       "      <td>12235</td>\n",
       "      <td>2018-08-31</td>\n",
       "      <td>3.639664e+24</td>\n",
       "      <td>desktop</td>\n",
       "      <td>313030636530313</td>\n",
       "      <td>393665363031353</td>\n",
       "      <td>1</td>\n",
       "      <td>149</td>\n",
       "      <td>NaN</td>\n",
       "    </tr>\n",
       "    <tr>\n",
       "      <td>12236</td>\n",
       "      <td>2018-08-31</td>\n",
       "      <td>6.639613e+24</td>\n",
       "      <td>mobile</td>\n",
       "      <td>363033316437326</td>\n",
       "      <td>343466353731646</td>\n",
       "      <td>1</td>\n",
       "      <td>479</td>\n",
       "      <td>6.436654e+19</td>\n",
       "    </tr>\n",
       "  </tbody>\n",
       "</table>\n",
       "<p>12237 rows × 8 columns</p>\n",
       "</div>"
      ],
      "text/plain": [
       "            date    visitor_id deviceType         order_id    on_product_id  \\\n",
       "0     2018-08-01  3.663324e+24    desktop  363063373630306  323762666337343   \n",
       "1     2018-08-01  3.430317e+24     mobile  356664366366353  313562333039323   \n",
       "2     2018-08-01  3.261343e+24    desktop  313432656633333  383863346531623   \n",
       "3     2018-08-01  6.437387e+24     mobile  633236633438383  666136386663626   \n",
       "4     2018-08-01  6.264657e+24    desktop  623030326130383  626533383465323   \n",
       "...          ...           ...        ...              ...              ...   \n",
       "12232 2018-08-31  3.133384e+24    desktop  636136633433353  323765383935613   \n",
       "12233 2018-08-31  6.532624e+24     mobile  313334363633303  333437623263326   \n",
       "12234 2018-08-31  3.535356e+24    desktop  626166643633306  613264333961396   \n",
       "12235 2018-08-31  3.639664e+24    desktop  313030636530313  393665363031353   \n",
       "12236 2018-08-31  6.639613e+24     mobile  363033316437326  343466353731646   \n",
       "\n",
       "       quantity  price   customer_id  \n",
       "0             1    839           NaN  \n",
       "1             1    629  6.339334e+19  \n",
       "2             1    219  3.765363e+19  \n",
       "3             1    239  6.533383e+19  \n",
       "4             1     69           NaN  \n",
       "...         ...    ...           ...  \n",
       "12232         1    349  3.639383e+19  \n",
       "12233         1    199  3.461394e+19  \n",
       "12234         1    349           NaN  \n",
       "12235         1    149           NaN  \n",
       "12236         1    479  6.436654e+19  \n",
       "\n",
       "[12237 rows x 8 columns]"
      ]
     },
     "execution_count": 6,
     "metadata": {},
     "output_type": "execute_result"
    }
   ],
   "source": [
    "df2 = pandas.read_json(\"online_orders.json\", lines = True)\n",
    "df2"
   ]
  },
  {
   "cell_type": "code",
   "execution_count": 7,
   "metadata": {},
   "outputs": [
    {
     "data": {
      "text/html": [
       "<div>\n",
       "<style scoped>\n",
       "    .dataframe tbody tr th:only-of-type {\n",
       "        vertical-align: middle;\n",
       "    }\n",
       "\n",
       "    .dataframe tbody tr th {\n",
       "        vertical-align: top;\n",
       "    }\n",
       "\n",
       "    .dataframe thead th {\n",
       "        text-align: right;\n",
       "    }\n",
       "</style>\n",
       "<table border=\"1\" class=\"dataframe\">\n",
       "  <thead>\n",
       "    <tr style=\"text-align: right;\">\n",
       "      <th></th>\n",
       "      <th>date</th>\n",
       "      <th>visitor_id</th>\n",
       "      <th>deviceType</th>\n",
       "      <th>pageType</th>\n",
       "      <th>category_id</th>\n",
       "      <th>on_product_id</th>\n",
       "      <th>customer_id</th>\n",
       "    </tr>\n",
       "  </thead>\n",
       "  <tbody>\n",
       "    <tr>\n",
       "      <td>0</td>\n",
       "      <td>2018-08-01</td>\n",
       "      <td>6.162326e+24</td>\n",
       "      <td>desktop</td>\n",
       "      <td>home</td>\n",
       "      <td>NaN</td>\n",
       "      <td>NaN</td>\n",
       "      <td>NaN</td>\n",
       "    </tr>\n",
       "    <tr>\n",
       "      <td>1</td>\n",
       "      <td>2018-08-01</td>\n",
       "      <td>3.538363e+24</td>\n",
       "      <td>desktop</td>\n",
       "      <td>landing_page</td>\n",
       "      <td>NaN</td>\n",
       "      <td>NaN</td>\n",
       "      <td>NaN</td>\n",
       "    </tr>\n",
       "    <tr>\n",
       "      <td>2</td>\n",
       "      <td>2018-08-01</td>\n",
       "      <td>3.130377e+24</td>\n",
       "      <td>mobile</td>\n",
       "      <td>subcategory</td>\n",
       "      <td>6.161393e+09</td>\n",
       "      <td>NaN</td>\n",
       "      <td>NaN</td>\n",
       "    </tr>\n",
       "    <tr>\n",
       "      <td>3</td>\n",
       "      <td>2018-08-01</td>\n",
       "      <td>3.130377e+24</td>\n",
       "      <td>mobile</td>\n",
       "      <td>subcategory</td>\n",
       "      <td>6.664354e+09</td>\n",
       "      <td>NaN</td>\n",
       "      <td>NaN</td>\n",
       "    </tr>\n",
       "    <tr>\n",
       "      <td>4</td>\n",
       "      <td>2018-08-01</td>\n",
       "      <td>3.235374e+24</td>\n",
       "      <td>desktop</td>\n",
       "      <td>landing_page</td>\n",
       "      <td>NaN</td>\n",
       "      <td>NaN</td>\n",
       "      <td>NaN</td>\n",
       "    </tr>\n",
       "    <tr>\n",
       "      <td>...</td>\n",
       "      <td>...</td>\n",
       "      <td>...</td>\n",
       "      <td>...</td>\n",
       "      <td>...</td>\n",
       "      <td>...</td>\n",
       "      <td>...</td>\n",
       "      <td>...</td>\n",
       "    </tr>\n",
       "    <tr>\n",
       "      <td>3452535</td>\n",
       "      <td>2018-08-31</td>\n",
       "      <td>3.764303e+24</td>\n",
       "      <td>mobile</td>\n",
       "      <td>product</td>\n",
       "      <td>3.533344e+09</td>\n",
       "      <td>3.962384e+14</td>\n",
       "      <td>NaN</td>\n",
       "    </tr>\n",
       "    <tr>\n",
       "      <td>3452536</td>\n",
       "      <td>2018-08-31</td>\n",
       "      <td>3.830366e+24</td>\n",
       "      <td>desktop</td>\n",
       "      <td>subcategory</td>\n",
       "      <td>3.733386e+09</td>\n",
       "      <td>NaN</td>\n",
       "      <td>NaN</td>\n",
       "    </tr>\n",
       "    <tr>\n",
       "      <td>3452537</td>\n",
       "      <td>2018-08-31</td>\n",
       "      <td>6.261346e+24</td>\n",
       "      <td>mobile</td>\n",
       "      <td>subcategory</td>\n",
       "      <td>3.733386e+09</td>\n",
       "      <td>NaN</td>\n",
       "      <td>NaN</td>\n",
       "    </tr>\n",
       "    <tr>\n",
       "      <td>3452538</td>\n",
       "      <td>2018-08-31</td>\n",
       "      <td>6.137614e+24</td>\n",
       "      <td>mobile</td>\n",
       "      <td>subcategory</td>\n",
       "      <td>3.136306e+09</td>\n",
       "      <td>NaN</td>\n",
       "      <td>NaN</td>\n",
       "    </tr>\n",
       "    <tr>\n",
       "      <td>3452539</td>\n",
       "      <td>2018-08-31</td>\n",
       "      <td>3.839633e+24</td>\n",
       "      <td>desktop</td>\n",
       "      <td>product</td>\n",
       "      <td>3.163313e+09</td>\n",
       "      <td>3.837356e+14</td>\n",
       "      <td>NaN</td>\n",
       "    </tr>\n",
       "  </tbody>\n",
       "</table>\n",
       "<p>3452540 rows × 7 columns</p>\n",
       "</div>"
      ],
      "text/plain": [
       "              date    visitor_id deviceType      pageType   category_id  \\\n",
       "0       2018-08-01  6.162326e+24    desktop          home           NaN   \n",
       "1       2018-08-01  3.538363e+24    desktop  landing_page           NaN   \n",
       "2       2018-08-01  3.130377e+24     mobile   subcategory  6.161393e+09   \n",
       "3       2018-08-01  3.130377e+24     mobile   subcategory  6.664354e+09   \n",
       "4       2018-08-01  3.235374e+24    desktop  landing_page           NaN   \n",
       "...            ...           ...        ...           ...           ...   \n",
       "3452535 2018-08-31  3.764303e+24     mobile       product  3.533344e+09   \n",
       "3452536 2018-08-31  3.830366e+24    desktop   subcategory  3.733386e+09   \n",
       "3452537 2018-08-31  6.261346e+24     mobile   subcategory  3.733386e+09   \n",
       "3452538 2018-08-31  6.137614e+24     mobile   subcategory  3.136306e+09   \n",
       "3452539 2018-08-31  3.839633e+24    desktop       product  3.163313e+09   \n",
       "\n",
       "         on_product_id  customer_id  \n",
       "0                  NaN          NaN  \n",
       "1                  NaN          NaN  \n",
       "2                  NaN          NaN  \n",
       "3                  NaN          NaN  \n",
       "4                  NaN          NaN  \n",
       "...                ...          ...  \n",
       "3452535   3.962384e+14          NaN  \n",
       "3452536            NaN          NaN  \n",
       "3452537            NaN          NaN  \n",
       "3452538            NaN          NaN  \n",
       "3452539   3.837356e+14          NaN  \n",
       "\n",
       "[3452540 rows x 7 columns]"
      ]
     },
     "execution_count": 7,
     "metadata": {},
     "output_type": "execute_result"
    }
   ],
   "source": [
    "df3 = pandas.read_json(\"online_pageviews.json\", lines = True)\n",
    "df3"
   ]
  },
  {
   "cell_type": "code",
   "execution_count": 22,
   "metadata": {},
   "outputs": [
    {
     "name": "stdout",
     "output_type": "stream",
     "text": [
      "venda total = R$ 19389777.130000003\n",
      "venda  online = R$ 5641837\n",
      "venda offline  = R$ 13747940.13\n"
     ]
    }
   ],
   "source": [
    "# 1\n",
    "tot_venda_off =df1['price'].sum()  #soma de todos os valores da coluna price das tabelas de venda online e offline\n",
    "tot_venda_on = df2['price'].sum()\n",
    "total_venda = tot_venda_on + tot_venda_off\n",
    "\n",
    "print('venda total = R$',total_venda)\n",
    "print('venda  online = R$',tot_venda_on)\n",
    "print('venda offline  = R$',tot_venda_off)"
   ]
  },
  {
   "cell_type": "code",
   "execution_count": 25,
   "metadata": {},
   "outputs": [
    {
     "data": {
      "text/plain": [
       "1    12209\n",
       "2       26\n",
       "3        2\n",
       "Name: quantity, dtype: int64"
      ]
     },
     "execution_count": 25,
     "metadata": {},
     "output_type": "execute_result"
    }
   ],
   "source": [
    "df2['quantity'].value_counts()"
   ]
  },
  {
   "cell_type": "code",
   "execution_count": 28,
   "metadata": {},
   "outputs": [
    {
     "name": "stdout",
     "output_type": "stream",
     "text": [
      "1    12209\n",
      "2       26\n",
      "3        2\n",
      "Name: quantity, dtype: int64\n"
     ]
    },
    {
     "data": {
      "text/plain": [
       "626664333563363    74\n",
       "376531636530353    51\n",
       "656136316465643    50\n",
       "396464373131666    47\n",
       "656662626334303    45\n",
       "                   ..\n",
       "643161333961346     1\n",
       "656535323731333     1\n",
       "626331343133353     1\n",
       "383432356665383     1\n",
       "313232346634653     1\n",
       "Name: on_product_id, Length: 2184, dtype: int64"
      ]
     },
     "execution_count": 28,
     "metadata": {},
     "output_type": "execute_result"
    }
   ],
   "source": [
    "#2\n",
    "prod= [] # criamos uma lista vazia para adicionar a quantidade de vezes que um produto repete\n",
    "\n",
    "print(df2['quantity'].value_counts())  # vemos quantas vezes um produto pode repetir dentro de um ticket\n",
    "\n",
    "for i in range(len(df2.index)):       # o maximo que adicionamos sao 3 vezes pois quando procuramos por valores diferentes\n",
    "    if df2.iloc[i, 5] == 3:           # na coluna de quantity so achamos 1,2,3 entao nao precisamos nos preocupar com valores \n",
    "        prod.append(df2.iloc[i, 4])   # maiores \n",
    "        prod.append(df2.iloc[i, 4])\n",
    "        prod.append(df2.iloc[i, 4])\n",
    "        \n",
    "    if df2.iloc[i, 5] == 2:\n",
    "        prod.append(df2.iloc[i, 4])\n",
    "        prod.append(df2.iloc[i, 4])\n",
    "    \n",
    "    else:\n",
    "        prod.append(df2.iloc[i, 4])\n",
    "\n",
    "df4 = pandas.DataFrame(prod, columns = ['on_product_id'])  #criamos um dataframe com a lista que obtemos de produtos \n",
    "df4['on_product_id'].value_counts()                        # e vemos entao qual foi o que mais aprece/mais vendeu\n",
    "        \n",
    "        \n",
    "        "
   ]
  },
  {
   "cell_type": "code",
   "execution_count": 29,
   "metadata": {},
   "outputs": [
    {
     "name": "stdout",
     "output_type": "stream",
     "text": [
      "Porcentagem de cariocas que compram nos finais de semana  0.19433792014437176\n",
      "8866\n",
      "1723\n"
     ]
    }
   ],
   "source": [
    "#3\n",
    "#df1[['state','date']].groupby(['date'])\n",
    "find = 0                                      #criamos algumas variaveis para que possamos trabalhar com porcentagem\n",
    "week = 0\n",
    "porc = 0\n",
    "\n",
    "estado = df1.loc[df1['state'] == 'RJ'].copy()\n",
    "cliente = estado[['state', 'date']].copy()\n",
    "for i in range (len(cliente.index)):        # criamos um laco for para percorrer todo a nossa  tabela e verificar se\n",
    "    if cliente.iloc[i,1].isoweekday() >=6:  # o dia da compra e ou nao um final de semana, caso positivo incrementamos uma\n",
    "        find = find +1                      # variavel\n",
    "    week = i\n",
    "porc = find/week                            \n",
    "print('Porcentagem de cariocas que compram nos finais de semana ', porc )  # por fim calculamos a porcentagem para melhor \n",
    "print(week)                                                                # visualizacao \n",
    "print(find)"
   ]
  },
  {
   "cell_type": "code",
   "execution_count": 16,
   "metadata": {},
   "outputs": [
    {
     "name": "stdout",
     "output_type": "stream",
     "text": [
      "0.1532470748467777\n",
      "0.5984522998823748\n"
     ]
    }
   ],
   "source": [
    "#4\n",
    "porc_off = 0          #criamos variaveis para porcentagem de vendas online e offline\n",
    "porc_on  = 0\n",
    "\n",
    "visita = df3['customer_id'].copy()  #copiamos os codigos dos clientes, retiramos os valores nulos e transformamos um  uma lista,\n",
    "visita = visita.dropna()            # fazemos isso com os clientes online,  offline e aqueles que visitaram o site\n",
    "visita= visita.tolist()\n",
    "\n",
    "off = df1['customer_id'].copy()    \n",
    "off = off.tolist()\n",
    "\n",
    "on  = df2['customer_id'].copy()\n",
    "on  = on.tolist()\n",
    "\n",
    "for i in range(len(visita)):       #fazemos o laco for para percorrer toda a lista de clientes e verificamos se  eles compraram \n",
    "    if visita[i] in off:           # online ou offline,  de acordo com a resposta incrementamos uma das variaveis de compra on \n",
    "        porc_off = porc_off + 1    # ou off\n",
    "    elif visita[i] in on:\n",
    "        porc_on  = porc_on  + 1\n",
    "        \n",
    "result_off = porc_off/len(visita) #calculamos a porcentagem para melhor visualizacao\n",
    "result_on  = porc_on/len(visita)\n",
    "\n",
    "print(result_off)\n",
    "print(result_on)\n"
   ]
  },
  {
   "cell_type": "code",
   "execution_count": 40,
   "metadata": {},
   "outputs": [
    {
     "name": "stdout",
     "output_type": "stream",
     "text": [
      "68388\n",
      "62424\n",
      "80765\n",
      "0.7729090571410884\n"
     ]
    }
   ],
   "source": [
    "#5\n",
    "\n",
    "visita = df3['customer_id'].copy()   #criamos uma  lista  com  todos os clientes que visitaram o site\n",
    "visita = visita.dropna()\n",
    "visita= visita.tolist()\n",
    "\n",
    "cliente =df3['customer_id'].copy()   #copiamos a primeira lista para  poder remover elementos dela\n",
    "cliente = cliente.dropna()\n",
    "cliente = cliente.tolist()\n",
    "\n",
    "off = df1['customer_id'].copy()    #criamos uma lista de  clientes que compraram em lojas offline\n",
    "off = off.tolist()\n",
    "\n",
    "for i in range(len(visita)):     # percorremos a lista de clientes offline e retiramos aqueles que aparecem em ambas as listas\n",
    "    if visita[i] in off:\n",
    "        cliente.remove(visita[i])\n",
    "\n",
    "\n",
    "print(len(cliente))             \n",
    "on = df2['customer_id'].copy()   # lista de clientes online\n",
    "on = on.tolist()  \n",
    "\n",
    "for e in range(len(on)):       # percorremos a lista novamente para retirar os clientes que aparcem em ambas e ficar somente \n",
    "    if on[e] in cliente:       # com aqueles que nao fizeram nenhuma compra\n",
    "        cliente.remove(on[e])\n",
    "print(len(cliente))\n",
    "print(len(visita))\n",
    "print(len(cliente)/len(visita))\n"
   ]
  },
  {
   "cell_type": "code",
   "execution_count": 38,
   "metadata": {},
   "outputs": [
    {
     "data": {
      "text/plain": [
       "RJ    8867\n",
       "SP    6123\n",
       "RS    4631\n",
       "PE    3289\n",
       "AM    1527\n",
       "RN    1472\n",
       "MA    1078\n",
       "PR     888\n",
       "PI     834\n",
       "MS     361\n",
       "GO     302\n",
       "Name: state, dtype: int64"
      ]
     },
     "execution_count": 38,
     "metadata": {},
     "output_type": "execute_result"
    }
   ],
   "source": [
    "#extra\n",
    "df1['state'].value_counts()  # contamos as ocorrencias de cada  estado"
   ]
  },
  {
   "cell_type": "code",
   "execution_count": 39,
   "metadata": {},
   "outputs": [
    {
     "data": {
      "text/plain": [
       "product         1415853\n",
       "subcategory      689586\n",
       "home             381654\n",
       "category         344513\n",
       "landing_page     275505\n",
       "search            94510\n",
       "not_found         87938\n",
       "other             75302\n",
       "cart              30203\n",
       "emptysearch       29618\n",
       "checkout          17332\n",
       "confirmation       8351\n",
       "userprofile        2058\n",
       "topqueries          117\n",
       "Name: pageType, dtype: int64"
      ]
     },
     "execution_count": 39,
     "metadata": {},
     "output_type": "execute_result"
    }
   ],
   "source": [
    "df3['pageType'].value_counts()# contamos a  ocorrencia de cada tipo de pagina"
   ]
  }
 ],
 "metadata": {
  "kernelspec": {
   "display_name": "Python 3",
   "language": "python",
   "name": "python3"
  },
  "language_info": {
   "codemirror_mode": {
    "name": "ipython",
    "version": 3
   },
   "file_extension": ".py",
   "mimetype": "text/x-python",
   "name": "python",
   "nbconvert_exporter": "python",
   "pygments_lexer": "ipython3",
   "version": "3.7.4"
  }
 },
 "nbformat": 4,
 "nbformat_minor": 2
}
